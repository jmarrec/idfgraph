{
 "cells": [
  {
   "cell_type": "code",
   "execution_count": 74,
   "metadata": {
    "collapsed": true
   },
   "outputs": [],
   "source": [
    "#Import statements\n",
    "import eppy\n",
    "from eppy.modeleditor import IDF\n",
    "import os\n",
    "import re"
   ]
  },
  {
   "cell_type": "code",
   "execution_count": 75,
   "metadata": {
    "collapsed": false
   },
   "outputs": [
    {
     "name": "stdout",
     "output_type": "stream",
     "text": [
      "C:\\EnergyPlusV8-3-0\\Energy+.idd\n"
     ]
    }
   ],
   "source": [
    "#Change the path to your IDD file\n",
    "iddfile = os.path.join(r'C:\\EnergyPlusV8-3-0\\Energy+.idd')\n",
    "\n",
    "#Set IDDFile in Eppy if not already set (can only do it once)\n",
    "try:\n",
    "    print IDF.iddname\n",
    "except:\n",
    "    IDF.setiddname(iddfile)"
   ]
  },
  {
   "cell_type": "code",
   "execution_count": 76,
   "metadata": {
    "collapsed": true
   },
   "outputs": [],
   "source": [
    "# geometry_filename = os.path.join(input_directory, \"model.idf\") #\"//home/tom/repos/www-maddog/mde/tutorials/ods-studio/afn0/ep/Output"
   ]
  },
  {
   "cell_type": "code",
   "execution_count": 4,
   "metadata": {
    "collapsed": false
   },
   "outputs": [],
   "source": [
    "#Load the IDF in Eppy\n",
    "idf = IDF(\"ep/short_v830.idf\")"
   ]
  },
  {
   "cell_type": "code",
   "execution_count": 30,
   "metadata": {
    "collapsed": true
   },
   "outputs": [],
   "source": [
    "#Return a list of all used objects\n",
    "all_objects_list = [obj[1] for obj in idf.idfobjects.iteritems() if len(obj[1]) > 0]"
   ]
  },
  {
   "cell_type": "markdown",
   "metadata": {
    "collapsed": true
   },
   "source": [
    "## Test bed- to delete\n",
    "**This is just a mere example of how to flatten a list of list...**"
   ]
  },
  {
   "cell_type": "code",
   "execution_count": 26,
   "metadata": {
    "collapsed": false
   },
   "outputs": [
    {
     "data": {
      "text/plain": [
       "[['40', '20', '10', '30'],\n",
       " ['20', '20', '20', '20', '20', '30', '20'],\n",
       " ['30', '20', '30', '50', '10', '30', '20', '20', '20'],\n",
       " ['100', '100'],\n",
       " ['100', '100', '100', '100', '100'],\n",
       " ['100', '100', '100', '100']]"
      ]
     },
     "execution_count": 26,
     "metadata": {},
     "output_type": "execute_result"
    }
   ],
   "source": [
    "l = [['40', '20', '10', '30'], ['20', '20', '20', '20', '20', '30', '20'], ['30', '20', '30', '50', '10', '30', '20', '20', '20'], ['100', '100'], ['100', '100', '100', '100', '100'], ['100', '100', '100', '100']]\n",
    "l"
   ]
  },
  {
   "cell_type": "code",
   "execution_count": 67,
   "metadata": {
    "collapsed": false
   },
   "outputs": [
    {
     "data": {
      "text/plain": [
       "[40.0, 20.0, 10.0, 30.0, 20.0, 20.0, 20.0, 20.0, 20.0, 30.0]"
      ]
     },
     "execution_count": 67,
     "metadata": {},
     "output_type": "execute_result"
    }
   ],
   "source": [
    "#list = [item for sublist in list for item in sublist]\n",
    "new_list = [float(x) for xs in l for x in xs]\n",
    "new_list[:10]"
   ]
  },
  {
   "cell_type": "markdown",
   "metadata": {},
   "source": [
    "## End of test bed"
   ]
  },
  {
   "cell_type": "code",
   "execution_count": 38,
   "metadata": {
    "collapsed": false
   },
   "outputs": [],
   "source": [
    "#Unpack one level of the list\n",
    "all_objects = [x for lst in all_objects_list for x in lst]\n",
    "all_objects;"
   ]
  },
  {
   "cell_type": "code",
   "execution_count": 43,
   "metadata": {
    "collapsed": false
   },
   "outputs": [],
   "source": [
    "#Return a list of the name of all objects. 'Name' \n",
    "list_of_names = []\n",
    "for obj in all_objects:\n",
    "    try: \n",
    "        n = getattr(obj, 'Name')\n",
    "        list_of_names.append(n)\n",
    "    except:\n",
    "        pass\n",
    "list_of_names;"
   ]
  },
  {
   "cell_type": "markdown",
   "metadata": {},
   "source": [
    "Now to loop over the items in each object, looking for matches to those names\n",
    "=============================================================================\n",
    "\n",
    "how to exclude links to self?\n",
    "how to name the objects involved ? "
   ]
  },
  {
   "cell_type": "markdown",
   "metadata": {},
   "source": [
    "## Test bed - to delete ultimately"
   ]
  },
  {
   "cell_type": "code",
   "execution_count": 45,
   "metadata": {
    "collapsed": false
   },
   "outputs": [
    {
     "name": "stdout",
     "output_type": "stream",
     "text": [
      "['Version', '8.3']\n"
     ]
    },
    {
     "data": {
      "text/plain": [
       "False"
      ]
     },
     "execution_count": 45,
     "metadata": {},
     "output_type": "execute_result"
    }
   ],
   "source": [
    "print(all_objects[2].obj)\n",
    "'Hello' in all_objects[2].obj"
   ]
  },
  {
   "cell_type": "code",
   "execution_count": 46,
   "metadata": {
    "collapsed": true
   },
   "outputs": [],
   "source": [
    "c1 = [1, 6, 7, 10, 13, 28, 32, 41, 58, 63]\n",
    "c2 = [[13, 17, 18, 21, 32], [7, 11, 13, 14, 28], [1, 5, 6, 8, 15, 16]]"
   ]
  },
  {
   "cell_type": "code",
   "execution_count": 47,
   "metadata": {
    "collapsed": false
   },
   "outputs": [
    {
     "data": {
      "text/plain": [
       "[1, 6, 7, 10, 13, 28, 32, 41, 58, 63]"
      ]
     },
     "execution_count": 47,
     "metadata": {},
     "output_type": "execute_result"
    }
   ],
   "source": [
    "c1"
   ]
  },
  {
   "cell_type": "code",
   "execution_count": 48,
   "metadata": {
    "collapsed": false
   },
   "outputs": [
    {
     "data": {
      "text/plain": [
       "[[13, 17, 18, 21, 32], [7, 11, 13, 14, 28], [1, 5, 6, 8, 15, 16]]"
      ]
     },
     "execution_count": 48,
     "metadata": {},
     "output_type": "execute_result"
    }
   ],
   "source": [
    "c2"
   ]
  },
  {
   "cell_type": "code",
   "execution_count": 94,
   "metadata": {
    "collapsed": true
   },
   "outputs": [],
   "source": [
    "c3 = [filter(lambda x: x in c1, sublist) for sublist in c2]"
   ]
  },
  {
   "cell_type": "code",
   "execution_count": 95,
   "metadata": {
    "collapsed": false
   },
   "outputs": [
    {
     "data": {
      "text/plain": [
       "[[13, 32], [7, 13, 28], [1, 6]]"
      ]
     },
     "execution_count": 95,
     "metadata": {},
     "output_type": "execute_result"
    }
   ],
   "source": [
    "c3"
   ]
  },
  {
   "cell_type": "markdown",
   "metadata": {},
   "source": [
    "## End of test bed"
   ]
  },
  {
   "cell_type": "code",
   "execution_count": 49,
   "metadata": {
    "collapsed": true
   },
   "outputs": [],
   "source": [
    "intersections = [filter(lambda x: x in list_of_names, sublist.obj) for sublist in all_objects]"
   ]
  },
  {
   "cell_type": "code",
   "execution_count": 62,
   "metadata": {
    "collapsed": false
   },
   "outputs": [
    {
     "data": {
      "text/plain": [
       "[['VAV Sys 1 Avail List', 'VAV Sys 1 Avail'],\n",
       " ['CW Avail List', 'CW Low Temp Limit'],\n",
       " [],\n",
       " ['Central Chiller', 'Central Chiller Condenser Inlet Node'],\n",
       " [],\n",
       " ['Supply Air Temp Manager 1',\n",
       "  'Temperature',\n",
       "  'Seasonal Reset Supply Air Temp Sch'],\n",
       " ['OA Air Temp Manager 1', 'Temperature', 'OA Cooling Supply Air Temp Sch'],\n",
       " ['OA Air Temp Manager 2', 'Temperature', 'OA Heating Supply Air Temp Sch'],\n",
       " ['Hot Water Loop Setpoint Manager', 'Temperature', 'HW Loop Temp Schedule'],\n",
       " ['Central Boiler Setpoint Manager', 'Temperature', 'HW Loop Temp Schedule']]"
      ]
     },
     "execution_count": 62,
     "metadata": {},
     "output_type": "execute_result"
    }
   ],
   "source": [
    "intersections[:10]"
   ]
  },
  {
   "cell_type": "code",
   "execution_count": 52,
   "metadata": {
    "collapsed": false
   },
   "outputs": [],
   "source": [
    "links = []\n",
    "# link = {source: src, type:\"default, target:trgt }\n",
    "for name in list_of_names:\n",
    "    for obj in all_objects:\n",
    "        if name in obj.obj:\n",
    "            #links.append(\"name %s found in %s\" %(name, obj) )\n",
    "            #print(obj.Name)\n",
    "            #print(name)\n",
    "            try:\n",
    "                if name != obj.Name:\n",
    "                    #links.append([\"source :%s\"%name, \"target: %s\"%obj.Name ])\n",
    "                    links.append( {\"source\":name,\"type\":\"default\", \"target\":obj.Name } )\n",
    "                    #print(\" Link FROM %s TO %s \"%(name, obj.Name))\n",
    "            except:\n",
    "                try: \n",
    "                    if name != obj.Zone_Name:\n",
    "                        #links.append([\"source :%s\"%name, \"target: %s\"%obj.Zone_Name ])\n",
    "                        links.append( {\"source\":name,\"type\":\"default\", \"target\":obj.Zone.Name } )\n",
    "                except:\n",
    "                    pass\n",
    "links;"
   ]
  },
  {
   "cell_type": "markdown",
   "metadata": {},
   "source": [
    "Write Links to a HTML file\n",
    "------------------------------"
   ]
  },
  {
   "cell_type": "code",
   "execution_count": 60,
   "metadata": {
    "collapsed": false
   },
   "outputs": [],
   "source": [
    "#Note, JM:  Modified this cell to make sure the file gets closed properly.\n",
    "links_string = str(links)\n",
    "with open(\"./html/links.html\",'w') as output_file:\n",
    "    output_file.writelines(links_string)"
   ]
  },
  {
   "cell_type": "code",
   "execution_count": 59,
   "metadata": {
    "collapsed": false
   },
   "outputs": [],
   "source": []
  },
  {
   "cell_type": "code",
   "execution_count": 58,
   "metadata": {
    "collapsed": false
   },
   "outputs": [],
   "source": [
    "#This is an attempt at writing to \"out.html\"\n",
    "with open(\"./html/out.html\", \"wt\") as fout:\n",
    "    with open(\"./html/idfgraph-0.html\", \"rt\") as fin:\n",
    "        for line in fin:\n",
    "            fout.write(line.replace('INSERTLINKSHERE', 'var links = %s'%links_string))"
   ]
  },
  {
   "cell_type": "code",
   "execution_count": null,
   "metadata": {
    "collapsed": true
   },
   "outputs": [],
   "source": []
  }
 ],
 "metadata": {
  "kernelspec": {
   "display_name": "Python 2",
   "language": "python",
   "name": "python2"
  },
  "language_info": {
   "codemirror_mode": {
    "name": "ipython",
    "version": 2
   },
   "file_extension": ".py",
   "mimetype": "text/x-python",
   "name": "python",
   "nbconvert_exporter": "python",
   "pygments_lexer": "ipython2",
   "version": "2.7.8"
  }
 },
 "nbformat": 4,
 "nbformat_minor": 0
}
