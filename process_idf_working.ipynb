{
 "metadata": {
  "name": "process_idf_working"
 }, 
 "nbformat": 2, 
 "worksheets": [
  {
   "cells": [
    {
     "cell_type": "code", 
     "collapsed": true, 
     "input": [
      "import eppy", 
      "from eppy.modeleditor import IDF", 
      "import os", 
      "import re", 
      "iddfile = \"/usr/local/EnergyPlus-8-0-0/Energy+.idd\""
     ], 
     "language": "python", 
     "outputs": [], 
     "prompt_number": 1
    }, 
    {
     "cell_type": "code", 
     "collapsed": true, 
     "input": [
      "IDF.setiddname(iddfile) # only do this once", 
      "# geometry_filename = os.path.join(input_directory, \"model.idf\") #\"//home/tom/repos/www-maddog/mde/tutorials/ods-studio/afn0/ep/Output", 
      "idf = IDF(\"ep/short.idf\")"
     ], 
     "language": "python", 
     "outputs": [], 
     "prompt_number": 2
    }, 
    {
     "cell_type": "code", 
     "collapsed": true, 
     "input": [
      "#all_objects = [ [x for x in obj] for obj in idf.idfobjects.iteritems() if len(obj[1]) > 0]"
     ], 
     "language": "python", 
     "outputs": [], 
     "prompt_number": 29
    }, 
    {
     "cell_type": "code", 
     "collapsed": true, 
     "input": [
      "all_objects_list = [obj[1] for obj in idf.idfobjects.iteritems() if len(obj[1]) > 0]"
     ], 
     "language": "python", 
     "outputs": [], 
     "prompt_number": 28
    }, 
    {
     "cell_type": "code", 
     "collapsed": true, 
     "input": [
      "l = [['40', '20', '10', '30'], ['20', '20', '20', '20', '20', '30', '20'], ['30', '20', '30', '50', '10', '30', '20', '20', '20'], ['100', '100'], ['100', '100', '100', '100', '100'], ['100', '100', '100', '100']]", 
      "new_list = [float(x) for xs in l for x in xs]"
     ], 
     "language": "python", 
     "outputs": [], 
     "prompt_number": 5
    }, 
    {
     "cell_type": "code", 
     "collapsed": false, 
     "input": [
      "all_objects = [x for lst in all_objects_list for x in lst]", 
      "all_objects"
     ], 
     "language": "python", 
     "outputs": [
      {
       "output_type": "pyout", 
       "prompt_number": 90, 
       "text": [
        "[", 
        "Version,                  ", 
        "    8.0;                      !- Version Identifier", 
        ",", 
        " ", 
        "SimulationControl,        ", 
        "    No,                       !- Do Zone Sizing Calculation", 
        "    No,                       !- Do System Sizing Calculation", 
        "    No,                       !- Do Plant Sizing Calculation", 
        "    Yes,                      !- Run Simulation for Sizing Periods", 
        "    Yes;                      !- Run Simulation for Weather File Run Periods", 
        ",", 
        " ", 
        "BuildingSurface:Detailed, ", 
        "    Zn001:Wall001,            !- Name", 
        "    Wall,                     !- Surface Type", 
        "    EXTWALL80,                !- Construction Name", 
        "    West Zone,                !- Zone Name", 
        "    Outdoors,                 !- Outside Boundary Condition", 
        "    ,                         !- Outside Boundary Condition Object", 
        "    SunExposed,               !- Sun Exposure", 
        "    WindExposed,              !- Wind Exposure", 
        "    0.5,                      !- View Factor to Ground", 
        "    4,                        !- Number of Vertices", 
        "    0.0,                      !- Vertex 1 Xcoordinate", 
        "    0.0,                      !- Vertex 1 Ycoordinate", 
        "    3.048,                    !- Vertex 1 Zcoordinate", 
        "    0.0,                      !- Vertex 2 Xcoordinate", 
        "    0.0,                      !- Vertex 2 Ycoordinate", 
        "    0.0,                      !- Vertex 2 Zcoordinate", 
        "    6.096,                    !- Vertex 3 Xcoordinate", 
        "    0.0,                      !- Vertex 3 Ycoordinate", 
        "    0.0,                      !- Vertex 3 Zcoordinate", 
        "    6.096,                    !- Vertex 4 Xcoordinate", 
        "    0.0,                      !- Vertex 4 Ycoordinate", 
        "    3.048;                    !- Vertex 4 Zcoordinate", 
        ",", 
        " ", 
        "BuildingSurface:Detailed, ", 
        "    Zn001:Wall002,            !- Name", 
        "    Wall,                     !- Surface Type", 
        "    EXTWALL80,                !- Construction Name", 
        "    West Zone,                !- Zone Name", 
        "    Outdoors,                 !- Outside Boundary Condition", 
        "    ,                         !- Outside Boundary Condition Object", 
        "    SunExposed,               !- Sun Exposure", 
        "    WindExposed,              !- Wind Exposure", 
        "    0.5,                      !- View Factor to Ground", 
        "    4,                        !- Number of Vertices", 
        "    0.0,                      !- Vertex 1 Xcoordinate", 
        "    6.096,                    !- Vertex 1 Ycoordinate", 
        "    3.048,                    !- Vertex 1 Zcoordinate", 
        "    0.0,                      !- Vertex 2 Xcoordinate", 
        "    6.096,                    !- Vertex 2 Ycoordinate", 
        "    0.0,                      !- Vertex 2 Zcoordinate", 
        "    0.0,                      !- Vertex 3 Xcoordinate", 
        "    0.0,                      !- Vertex 3 Ycoordinate", 
        "    0.0,                      !- Vertex 3 Zcoordinate", 
        "    0.0,                      !- Vertex 4 Xcoordinate", 
        "    0.0,                      !- Vertex 4 Ycoordinate", 
        "    3.048;                    !- Vertex 4 Zcoordinate", 
        ",", 
        " ", 
        "FenestrationSurface:Detailed,", 
        "    Zn001:Wall001:Win001,     !- Name", 
        "    Window,                   !- Surface Type", 
        "    WIN-CON-LIGHT,            !- Construction Name", 
        "    Zn001:Wall001,            !- Building Surface Name", 
        "    ,                         !- Outside Boundary Condition Object", 
        "    0.5,                      !- View Factor to Ground", 
        "    ,                         !- Shading Control Name", 
        "    ,                         !- Frame and Divider Name", 
        "    1.0,                      !- Multiplier", 
        "    4,                        !- Number of Vertices", 
        "    0.548,                    !- Vertex 1 Xcoordinate", 
        "    0.0,                      !- Vertex 1 Ycoordinate", 
        "    2.5,                      !- Vertex 1 Zcoordinate", 
        "    0.548,                    !- Vertex 2 Xcoordinate", 
        "    0.0,                      !- Vertex 2 Ycoordinate", 
        "    0.5,                      !- Vertex 2 Zcoordinate", 
        "    5.548,                    !- Vertex 3 Xcoordinate", 
        "    0.0,                      !- Vertex 3 Ycoordinate", 
        "    0.5,                      !- Vertex 3 Zcoordinate", 
        "    5.548,                    !- Vertex 4 Xcoordinate", 
        "    0.0,                      !- Vertex 4 Ycoordinate", 
        "    2.5;                      !- Vertex 4 Zcoordinate", 
        ",", 
        " ", 
        "SurfaceConvectionAlgorithm:Inside,", 
        "    TARP;                     !- Algorithm", 
        ",", 
        " ", 
        "Output:Variable,          ", 
        "    Zone 1 Damper Inlet Node,    !- Key Value", 
        "    System Node Mass Flow Rate,    !- Variable Name", 
        "    timestep;                 !- Reporting Frequency", 
        ",", 
        " ", 
        "Building,                 ", 
        "    NONE,                     !- Name", 
        "    0.0,                      !- North Axis", 
        "    Suburbs,                  !- Terrain", 
        "    0.039999999,              !- Loads Convergence Tolerance Value", 
        "    0.4,                      !- Temperature Convergence Tolerance Value", 
        "    FullInteriorAndExterior,    !- Solar Distribution", 
        "    25,                       !- Maximum Number of Warmup Days", 
        "    6;                        !- Minimum Number of Warmup Days", 
        ",", 
        " ", 
        "ScheduleTypeLimits,       ", 
        "    Fraction,                 !- Name", 
        "    0.0,                      !- Lower Limit Value", 
        "    1.0,                      !- Upper Limit Value", 
        "    CONTINUOUS;               !- Numeric Type", 
        ",", 
        " ", 
        "ScheduleTypeLimits,       ", 
        "    Temperature,              !- Name", 
        "    -60,                      !- Lower Limit Value", 
        "    200,                      !- Upper Limit Value", 
        "    CONTINUOUS,               !- Numeric Type", 
        "    Temperature;              !- Unit Type", 
        ",", 
        " ", 
        "ScheduleTypeLimits,       ", 
        "    Control Type,             !- Name", 
        "    0,                        !- Lower Limit Value", 
        "    4,                        !- Upper Limit Value", 
        "    DISCRETE;                 !- Numeric Type", 
        ",", 
        " ", 
        "ScheduleTypeLimits,       ", 
        "    On/Off,                   !- Name", 
        "    0,                        !- Lower Limit Value", 
        "    1,                        !- Upper Limit Value", 
        "    DISCRETE;                 !- Numeric Type", 
        ",", 
        " ", 
        "SurfaceConvectionAlgorithm:Outside,", 
        "    DOE-2;                    !- Algorithm", 
        "]"
       ]
      }
     ], 
     "prompt_number": 90
    }, 
    {
     "cell_type": "code", 
     "collapsed": false, 
     "input": [
      "list_of_names = []", 
      "for obj in all_objects:", 
      "    try: ", 
      "        n = getattr(obj, 'Name')", 
      "        list_of_names.append(n)", 
      "    except:", 
      "        pass", 
      "list_of_names"
     ], 
     "language": "python", 
     "outputs": [
      {
       "output_type": "pyout", 
       "prompt_number": 78, 
       "text": [
        "['Zn001:Wall001',", 
        " 'Zn001:Wall002',", 
        " 'Zn001:Wall001:Win001',", 
        " 'NONE',", 
        " 'Fraction',", 
        " 'Temperature',", 
        " 'Control Type',", 
        " 'On/Off']"
       ]
      }
     ], 
     "prompt_number": 78
    }, 
    {
     "cell_type": "markdown", 
     "source": [
      "Now to loop over the items in each object, looking for matches to those names", 
      "=============================================================================", 
      "", 
      "how to exclude links to self?", 
      "how to name the objects involved ? "
     ]
    }, 
    {
     "cell_type": "code", 
     "collapsed": false, 
     "input": [
      "print(all_objects[2].obj)", 
      "'Hello' in all_objects[2].obj"
     ], 
     "language": "python", 
     "outputs": [
      {
       "output_type": "stream", 
       "stream": "stdout", 
       "text": [
        "['BuildingSurface:Detailed', 'Zn001:Wall001', 'Wall', 'EXTWALL80', 'West Zone', 'Outdoors', '', 'SunExposed', 'WindExposed', 0.5, '4', 0.0, 0.0, 3.048, 0.0, 0.0, 0.0, 6.096, 0.0, 0.0, 6.096, 0.0, 3.048]"
       ]
      }, 
      {
       "output_type": "pyout", 
       "prompt_number": 88, 
       "text": [
        "False"
       ]
      }
     ], 
     "prompt_number": 88
    }, 
    {
     "cell_type": "code", 
     "collapsed": true, 
     "input": [
      "c1 = [1, 6, 7, 10, 13, 28, 32, 41, 58, 63]", 
      "c2 = [[13, 17, 18, 21, 32], [7, 11, 13, 14, 28], [1, 5, 6, 8, 15, 16]]"
     ], 
     "language": "python", 
     "outputs": [], 
     "prompt_number": 91
    }, 
    {
     "cell_type": "code", 
     "collapsed": true, 
     "input": [
      "c3 = [filter(lambda x: x in c1, sublist) for sublist in c2]"
     ], 
     "language": "python", 
     "outputs": [], 
     "prompt_number": 94
    }, 
    {
     "cell_type": "code", 
     "collapsed": false, 
     "input": [
      "c3"
     ], 
     "language": "python", 
     "outputs": [
      {
       "output_type": "pyout", 
       "prompt_number": 95, 
       "text": [
        "[[13, 32], [7, 13, 28], [1, 6]]"
       ]
      }
     ], 
     "prompt_number": 95
    }, 
    {
     "cell_type": "code", 
     "collapsed": true, 
     "input": [
      "intersections = [filter(lambda x: x in list_of_names, sublist.obj) for sublist in all_objects]"
     ], 
     "language": "python", 
     "outputs": [], 
     "prompt_number": 100
    }, 
    {
     "cell_type": "code", 
     "collapsed": false, 
     "input": [
      "intersections[4] # "
     ], 
     "language": "python", 
     "outputs": [
      {
       "output_type": "pyout", 
       "prompt_number": 107, 
       "text": [
        "['Zn001:Wall001:Win001', 'Zn001:Wall001']"
       ]
      }
     ], 
     "prompt_number": 107
    }, 
    {
     "cell_type": "code", 
     "collapsed": false, 
     "input": [
      "links = []", 
      "for name in list_of_names:", 
      "    for obj in all_objects:", 
      "        if name in obj.obj:", 
      "            #links.append(\"name %s found in %s\" %(name, obj) )", 
      "            #print(obj.Name)", 
      "            #print(name)", 
      "            if name != obj.Name:", 
      "                print(\" link from name : %s to name %s \"%(name, obj.Name))", 
      "                     ", 
      "        "
     ], 
     "language": "python", 
     "outputs": [
      {
       "output_type": "stream", 
       "stream": "stdout", 
       "text": [
        " link from name : Zn001:Wall001 to name Zn001:Wall001:Win001 "
       ]
      }
     ], 
     "prompt_number": 141
    }, 
    {
     "cell_type": "code", 
     "collapsed": false, 
     "input": [
      "all_objects[1].obj[0]"
     ], 
     "language": "python", 
     "outputs": [
      {
       "output_type": "pyout", 
       "prompt_number": 120, 
       "text": [
        "'SimulationControl'"
       ]
      }
     ], 
     "prompt_number": 120
    }, 
    {
     "cell_type": "code", 
     "collapsed": true, 
     "input": [
      "all_objects[0].name"
     ], 
     "language": "python", 
     "outputs": []
    }, 
    {
     "cell_type": "code", 
     "collapsed": true, 
     "input": [], 
     "language": "python", 
     "outputs": []
    }
   ]
  }
 ]
}